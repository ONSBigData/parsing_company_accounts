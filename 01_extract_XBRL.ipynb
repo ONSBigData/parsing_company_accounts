{
 "cells": [
  {
   "cell_type": "markdown",
   "metadata": {},
   "source": [
    "# Extracting Data from Companies House Electronic Records\n",
    "\n",
    "Companies house receives 75% of its records in XBRL or iXBRL format, a glorified tagged xml document that should allow for easy automated extraction of statistics.\n",
    "\n",
    "The software in this repo was developed after reading of this (American) example:\n",
    "https://www.codeproject.com/Articles/1227765/Parsing-XBRL-with-Python\n",
    "\n",
    "The functions for doing so are hosted in the module xbrl_parser.py\n",
    "\n",
    "Both xbrl_parser.py and this script have a number of python package dependencies so expect to have to install some things.\n"
   ]
  },
  {
   "cell_type": "markdown",
   "metadata": {},
   "source": [
    "## Returned dict schema for html/xml sourced data\n",
    "\n",
    "A practical note:  Apart from explicitly elevated metadata, all extracted values are stored in a list of \"elements\" within the returned dict.  Each element is itself a dict, containing the name and value of the discovered data along with fields unit and date for metadata."
   ]
  },
  {
   "cell_type": "markdown",
   "metadata": {},
   "source": [
    "# Setup (import modules, set up a helper function for getting filepaths)"
   ]
  },
  {
   "cell_type": "code",
   "execution_count": 4,
   "metadata": {},
   "outputs": [],
   "source": [
    "import xbrl_parser as xp\n",
    "import os\n",
    "import numpy as np\n",
    "import pandas as pd\n",
    "import importlib\n",
    "\n",
    "def get_filepaths(directory):\n",
    "\n",
    "    \"\"\" Helper function - \n",
    "    Get all of the filenames in a directory that\n",
    "    end in htm* or xml.\n",
    "    Under the assumption that all files within\n",
    "    the folder are financial records. \"\"\"\n",
    "\n",
    "    files = [directory + \"/\" + filename\n",
    "                for filename in os.listdir(directory)\n",
    "                    if ((\"htm\" in filename.lower()) or (\"xml\" in filename.lower())) ]\n",
    "    return(files)"
   ]
  },
  {
   "cell_type": "markdown",
   "metadata": {},
   "source": [
    "# Extracting data from documents\n",
    "\n",
    "We'll import the module, and process some files\n"
   ]
  },
  {
   "cell_type": "code",
   "execution_count": 2,
   "metadata": {},
   "outputs": [
    {
     "data": {
      "text/plain": [
       "['./example_data_XBRL_iXBRL/Prod224_0042_00958610_20160930.xml',\n",
       " './example_data_XBRL_iXBRL/Prod223_2125_09749826_20170831.html',\n",
       " './example_data_XBRL_iXBRL/Prod223_2125_09170142_20170831.html',\n",
       " './example_data_XBRL_iXBRL/Prod224_0042_03237381_20160831.xml',\n",
       " './example_data_XBRL_iXBRL/Prod223_2125_09900460_20161231.html',\n",
       " './example_data_XBRL_iXBRL/Prod223_2125_09652609_20180331.html',\n",
       " './example_data_XBRL_iXBRL/Prod223_2125_09722743_20170831.html']"
      ]
     },
     "execution_count": 2,
     "metadata": {},
     "output_type": "execute_result"
    }
   ],
   "source": [
    "# Get all the filenames from the example folder\n",
    "files = get_filepaths(\"./example_data_XBRL_iXBRL\")\n",
    "\n",
    "# There's 379 examples currently\n",
    "files[0:7]"
   ]
  },
  {
   "cell_type": "code",
   "execution_count": null,
   "metadata": {},
   "outputs": [],
   "source": [
    "# Reload the xbrl_parser module (don't need this normally, it's just useful for me\n",
    "# for iterative testing of changes)\n",
    "importlib.reload(xp)\n",
    "\n",
    "# try getting the first file (an XML, or XBRL, file)\n",
    "doc = xp.process_account(files[0])\n",
    "\n",
    "# display for fun\n",
    "doc"
   ]
  },
  {
   "cell_type": "code",
   "execution_count": null,
   "metadata": {},
   "outputs": [],
   "source": [
    "# try getting the second file (an HTML, or iXBRL, file)\n",
    "doc2 = xp.process_account(files[1])\n",
    "\n",
    "# display for fun\n",
    "doc2"
   ]
  },
  {
   "cell_type": "markdown",
   "metadata": {},
   "source": [
    "# Retrieve elements"
   ]
  },
  {
   "cell_type": "code",
   "execution_count": null,
   "metadata": {},
   "outputs": [],
   "source": [
    "# Loop through the document, retrieving any element with a matching name\n",
    "for element in doc['elements']:\n",
    "    if element['name'] == 'netassetsliabilitiesincludingpensionassetliability':\n",
    "        print(element)"
   ]
  },
  {
   "cell_type": "code",
   "execution_count": null,
   "metadata": {},
   "outputs": [],
   "source": [
    "# Extract the all the data to long-thin table format for use with SQL\n",
    "# Note, tables from docs should be appendable to one another to create\n",
    "# tables of all data\n",
    "xp.flatten_data(doc).head(15)"
   ]
  },
  {
   "cell_type": "code",
   "execution_count": null,
   "metadata": {
    "scrolled": true
   },
   "outputs": [],
   "source": [
    "# Finally, build a table of all variables from all example (digital) documents\n",
    "# This can take a while\n",
    "\n",
    "# Empty table awaiting results\n",
    "results = pd.DataFrame()\n",
    "\n",
    "# For every file\n",
    "for file in files:\n",
    "    \n",
    "    # Read the file\n",
    "    doc = xp.process_account(file)\n",
    "    \n",
    "    # tabulate the results\n",
    "    doc_df = xp.flatten_data(doc)\n",
    "    \n",
    "    # append to table\n",
    "    results = results.append(doc_df)"
   ]
  },
  {
   "cell_type": "code",
   "execution_count": null,
   "metadata": {},
   "outputs": [],
   "source": [
    "results.head(15)"
   ]
  },
  {
   "cell_type": "markdown",
   "metadata": {},
   "source": [
    "That's ~380 files extracted to obtain ~ 22,000 variables - on average 60 variables per record.  As you've just seen though, extraction can take a while!  Searching through the documents using BeautifulSoup can take a long time, especially where chasing element links to get information on units.  Hopefully this is the sort of thing that can be optimised in future, or it'll be rendered irrelevant by Moore's Law."
   ]
  },
  {
   "cell_type": "code",
   "execution_count": null,
   "metadata": {},
   "outputs": [],
   "source": [
    "results.to_csv(\"example_extracted_XBRL_data.csv\", index=False)"
   ]
  },
  {
   "cell_type": "markdown",
   "metadata": {},
   "source": [
    "# Get summary variables\n",
    "\n",
    "These I've implemented to work off the MongoDB/Dict representation of the data that the scraping code returns.  It's assumed that if you wish to work with the \"flattened\" SQL-compatible data instead you can develop your own queries :)"
   ]
  },
  {
   "cell_type": "code",
   "execution_count": null,
   "metadata": {},
   "outputs": [],
   "source": [
    "index = 3\n",
    "doc = xp.process_account(files[index])\n",
    "\n",
    "# This tries to add up every variable it can find in a list of variable names\n",
    "test = xp.summarise_by_sum(doc, [\"fixedassets\",\n",
    "                                 \"currentassets\",\n",
    "                                 \"intangibleassets\",\n",
    "                                 \"tangiblefixedassets\",\n",
    "                                 \"intangiblefixedassets\",\n",
    "                                 \"investmentsfixedassets\",\n",
    "                                 \"cashbankinhand\",\n",
    "                                 \"cashbankonhand\",\n",
    "                                 \"cashbank\",\n",
    "                                 \"cashonhand\",\n",
    "                                 \"cashinhand\",\n",
    "                                 \"calledupsharecapitalnotpaidnotexpressedascurrentasset\",\n",
    "                                 \"otherdebtors\"])\n",
    "test"
   ]
  },
  {
   "cell_type": "code",
   "execution_count": null,
   "metadata": {},
   "outputs": [],
   "source": [
    "# This returns the first variable it finds in a prioritised list\n",
    "# Here I've gone looking for net assets/liabilities\n",
    "test = xp.summarise_by_priority(doc, [\"netassetsliabilitiesincludingpensionasset\",\n",
    "                                      \"netassetsliabilityexcludingpensionasset\",\n",
    "                                      \"netassetsliabilities\",\n",
    "                                      \"totalassetslesscurrentliabilities\",\n",
    "                                      \"netcurrentassetsliabilities\"])\n",
    "\n",
    "test"
   ]
  },
  {
   "cell_type": "code",
   "execution_count": null,
   "metadata": {},
   "outputs": [],
   "source": [
    "# Here I've applied it to shareholder funds/equity\n",
    "test = xp.summarise_by_priority(doc, [\"shareholderfunds\",\n",
    "                                      \"equity\",\n",
    "                                      \"capitalandreserves\"])\n",
    "\n",
    "test"
   ]
  },
  {
   "cell_type": "code",
   "execution_count": null,
   "metadata": {},
   "outputs": [],
   "source": [
    "# This one just tries to return all named variables\n",
    "test = xp.summarise_set(doc, [\"creditors\",\n",
    "                              \"debtors\",\n",
    "                              'accountstypefullorabbreviated',\n",
    "                              'descriptionprincipalactivities',\n",
    "                              'accountingstandardsapplied',\n",
    "                              'entitytradingstatus'])\n",
    "test"
   ]
  },
  {
   "cell_type": "markdown",
   "metadata": {},
   "source": [
    "# Finding consolidated status\n",
    "\n",
    "It turns out that \"consolidated\" will be tricky - variables exist for it in xbrl/ixbrl docs but they're missleading.  A lot of companies have such a variable and then set the value to \"False\"."
   ]
  },
  {
   "cell_type": "code",
   "execution_count": 3,
   "metadata": {},
   "outputs": [
    {
     "data": {
      "text/html": [
       "<div>\n",
       "<style scoped>\n",
       "    .dataframe tbody tr th:only-of-type {\n",
       "        vertical-align: middle;\n",
       "    }\n",
       "\n",
       "    .dataframe tbody tr th {\n",
       "        vertical-align: top;\n",
       "    }\n",
       "\n",
       "    .dataframe thead th {\n",
       "        text-align: right;\n",
       "    }\n",
       "</style>\n",
       "<table border=\"1\" class=\"dataframe\">\n",
       "  <thead>\n",
       "    <tr style=\"text-align: right;\">\n",
       "      <th></th>\n",
       "      <th>Unnamed: 0</th>\n",
       "      <th>Element Count</th>\n",
       "      <th>Element Name</th>\n",
       "      <th>Of Which are Numerical</th>\n",
       "      <th>source</th>\n",
       "    </tr>\n",
       "  </thead>\n",
       "  <tbody>\n",
       "    <tr>\n",
       "      <th>0</th>\n",
       "      <td>12</td>\n",
       "      <td>258094.0</td>\n",
       "      <td>shareholderfunds</td>\n",
       "      <td>258094.0</td>\n",
       "      <td>uk-gaap-full</td>\n",
       "    </tr>\n",
       "    <tr>\n",
       "      <th>1</th>\n",
       "      <td>14</td>\n",
       "      <td>240395.0</td>\n",
       "      <td>netassetsliabilitiesincludingpensionassetliabi...</td>\n",
       "      <td>240395.0</td>\n",
       "      <td>uk-gaap-full</td>\n",
       "    </tr>\n",
       "    <tr>\n",
       "      <th>2</th>\n",
       "      <td>19</td>\n",
       "      <td>160318.0</td>\n",
       "      <td>creditorsduewithinoneyear</td>\n",
       "      <td>160318.0</td>\n",
       "      <td>uk-gaap-full</td>\n",
       "    </tr>\n",
       "    <tr>\n",
       "      <th>3</th>\n",
       "      <td>23</td>\n",
       "      <td>139584.0</td>\n",
       "      <td>sharecapitalallottedcalleduppaid</td>\n",
       "      <td>139584.0</td>\n",
       "      <td>uk-gaap-full</td>\n",
       "    </tr>\n",
       "    <tr>\n",
       "      <th>4</th>\n",
       "      <td>24</td>\n",
       "      <td>120765.0</td>\n",
       "      <td>cashbankinhand</td>\n",
       "      <td>120765.0</td>\n",
       "      <td>uk-gaap-full</td>\n",
       "    </tr>\n",
       "  </tbody>\n",
       "</table>\n",
       "</div>"
      ],
      "text/plain": [
       "   Unnamed: 0  Element Count  \\\n",
       "0          12       258094.0   \n",
       "1          14       240395.0   \n",
       "2          19       160318.0   \n",
       "3          23       139584.0   \n",
       "4          24       120765.0   \n",
       "\n",
       "                                        Element Name  Of Which are Numerical  \\\n",
       "0                                   shareholderfunds                258094.0   \n",
       "1  netassetsliabilitiesincludingpensionassetliabi...                240395.0   \n",
       "2                          creditorsduewithinoneyear                160318.0   \n",
       "3                   sharecapitalallottedcalleduppaid                139584.0   \n",
       "4                                     cashbankinhand                120765.0   \n",
       "\n",
       "         source  \n",
       "0  uk-gaap-full  \n",
       "1  uk-gaap-full  \n",
       "2  uk-gaap-full  \n",
       "3  uk-gaap-full  \n",
       "4  uk-gaap-full  "
      ]
     },
     "execution_count": 3,
     "metadata": {},
     "output_type": "execute_result"
    }
   ],
   "source": [
    "allvars = pd.read_csv(\"all_variables_sources.csv\")\n",
    "\n",
    "allvars.head()"
   ]
  },
  {
   "cell_type": "code",
   "execution_count": null,
   "metadata": {
    "scrolled": true
   },
   "outputs": [],
   "source": [
    "consolidation_vars = allvars[allvars['Element Name'].str.contains(\"consoli\")]\n",
    "consolidation_vars.sort_values(\"Element Count\", ascending=False)"
   ]
  },
  {
   "cell_type": "code",
   "execution_count": null,
   "metadata": {
    "scrolled": true
   },
   "outputs": [],
   "source": [
    "consolidation_vars = allvars[allvars['Element Name'].str.contains(\"parent\")]\n",
    "consolidation_vars.sort_values(\"Element Count\", ascending=False)"
   ]
  },
  {
   "cell_type": "code",
   "execution_count": null,
   "metadata": {
    "scrolled": true
   },
   "outputs": [],
   "source": [
    "consolidation_vars = allvars[allvars['Element Name'].str.contains(\"accou\")]\n",
    "consolidation_vars.sort_values(\"Element Count\", ascending=False)"
   ]
  },
  {
   "cell_type": "code",
   "execution_count": null,
   "metadata": {
    "scrolled": true
   },
   "outputs": [],
   "source": [
    "consolidation_vars = allvars[allvars['Element Name'].str.contains(\"activit\")]\n",
    "consolidation_vars.sort_values(\"Element Count\", ascending=False)"
   ]
  },
  {
   "cell_type": "code",
   "execution_count": null,
   "metadata": {},
   "outputs": [],
   "source": [
    "# manual filter to relevant vars from remaining\n",
    "for each in consolidation_vars['Element Name']:\n",
    "    print(each)"
   ]
  },
  {
   "cell_type": "code",
   "execution_count": null,
   "metadata": {},
   "outputs": [],
   "source": [
    "# Built a truth table; for each variable what value should it have to mark a company as consolidated?\n",
    "consolidation_var_table = {\n",
    "    \"includedinconsolidationsubsidiary\":True,\n",
    "    \"investmententityrequiredtoapplyexceptionfromconsolidationtruefalse\":True,\n",
    "    \"subsidiaryunconsolidatedtruefalse\":False,\n",
    "    \"descriptionreasonwhyentityhasnotpreparedconsolidatedfinancialstatements\":\"exist\",\n",
    "    \"consolidationpolicy\":\"exist\",\n",
    "    }"
   ]
  },
  {
   "cell_type": "code",
   "execution_count": 6,
   "metadata": {},
   "outputs": [],
   "source": [
    "import pymongo\n",
    "\n",
    "cl = pymongo.MongoClient()\n",
    "db = cl['CH_records']\n",
    "col = db['digital_record_scrapes']"
   ]
  },
  {
   "cell_type": "code",
   "execution_count": 7,
   "metadata": {},
   "outputs": [
    {
     "name": "stderr",
     "output_type": "stream",
     "text": [
      "/home/martin/.local/lib/python3.6/site-packages/ipykernel_launcher.py:1: DeprecationWarning: count is deprecated. Use Collection.count_documents instead.\n",
      "  \"\"\"Entry point for launching an IPython kernel.\n"
     ]
    },
    {
     "data": {
      "text/plain": [
       "3015767"
      ]
     },
     "execution_count": 7,
     "metadata": {},
     "output_type": "execute_result"
    }
   ],
   "source": [
    "col.find().count()"
   ]
  },
  {
   "cell_type": "code",
   "execution_count": null,
   "metadata": {},
   "outputs": [],
   "source": [
    "docs = col.find().limit(300000)"
   ]
  },
  {
   "cell_type": "code",
   "execution_count": null,
   "metadata": {},
   "outputs": [],
   "source": [
    "results = pd.DataFrame()\n",
    "\n",
    "for doc in docs:\n",
    "    \n",
    "    for each in doc['elements']:\n",
    "    \n",
    "        if each['name'] in consolidation_var_table.keys():\n",
    "        \n",
    "            res = {\"record\":doc['doc_companieshouseregisterednumber'],\n",
    "                   \"variable\":each['name'],\n",
    "                   \"value\":each['value'],\n",
    "                   \"truthval\":consolidation_var_table[each['name']]}\n",
    "        \n",
    "            results = results.append(res, ignore_index=True)"
   ]
  },
  {
   "cell_type": "code",
   "execution_count": null,
   "metadata": {},
   "outputs": [],
   "source": [
    "results.head()"
   ]
  },
  {
   "cell_type": "code",
   "execution_count": null,
   "metadata": {},
   "outputs": [],
   "source": [
    "results['variable'].unique()"
   ]
  },
  {
   "cell_type": "code",
   "execution_count": null,
   "metadata": {},
   "outputs": [],
   "source": [
    "results[['variable', 'value', 'record']].groupby(['variable', 'value']).agg('count').to_csv(\"example_consolidation_variables.csv\")"
   ]
  },
  {
   "cell_type": "code",
   "execution_count": null,
   "metadata": {},
   "outputs": [],
   "source": [
    "results[['variable', 'value', 'record']].groupby(['variable', 'value']).agg('count')"
   ]
  },
  {
   "cell_type": "markdown",
   "metadata": {},
   "source": [
    "# Extracting principal activities"
   ]
  },
  {
   "cell_type": "code",
   "execution_count": 8,
   "metadata": {
    "scrolled": true
   },
   "outputs": [
    {
     "name": "stdout",
     "output_type": "stream",
     "text": [
      "created_data at  10000\n",
      "appended data at  20000\n",
      "appended data at  30000\n",
      "appended data at  40000\n",
      "appended data at  50000\n",
      "appended data at  60000\n",
      "appended data at  70000\n",
      "appended data at  80000\n",
      "appended data at  90000\n",
      "appended data at  100000\n",
      "appended data at  110000\n",
      "appended data at  120000\n",
      "appended data at  130000\n",
      "appended data at  140000\n",
      "appended data at  150000\n",
      "appended data at  160000\n",
      "appended data at  170000\n",
      "appended data at  180000\n",
      "appended data at  190000\n",
      "appended data at  200000\n",
      "appended data at  210000\n",
      "appended data at  220000\n",
      "appended data at  230000\n",
      "appended data at  240000\n",
      "appended data at  250000\n",
      "appended data at  260000\n",
      "appended data at  270000\n",
      "appended data at  280000\n",
      "appended data at  290000\n",
      "appended data at  300000\n",
      "appended data at  310000\n",
      "appended data at  320000\n",
      "appended data at  330000\n",
      "appended data at  340000\n",
      "appended data at  350000\n",
      "appended data at  360000\n",
      "appended data at  370000\n",
      "appended data at  380000\n",
      "appended data at  390000\n",
      "appended data at  400000\n",
      "appended data at  410000\n",
      "appended data at  420000\n",
      "appended data at  430000\n",
      "appended data at  440000\n",
      "appended data at  450000\n",
      "appended data at  460000\n",
      "appended data at  470000\n",
      "appended data at  480000\n",
      "appended data at  490000\n",
      "appended data at  500000\n",
      "appended data at  510000\n",
      "appended data at  520000\n",
      "appended data at  530000\n",
      "appended data at  540000\n",
      "appended data at  550000\n",
      "appended data at  560000\n",
      "appended data at  570000\n",
      "appended data at  580000\n",
      "appended data at  590000\n",
      "appended data at  600000\n",
      "appended data at  610000\n",
      "appended data at  620000\n",
      "appended data at  630000\n",
      "appended data at  640000\n",
      "appended data at  650000\n",
      "appended data at  660000\n",
      "appended data at  670000\n",
      "appended data at  680000\n",
      "appended data at  690000\n",
      "appended data at  700000\n",
      "appended data at  710000\n",
      "appended data at  720000\n",
      "appended data at  730000\n",
      "appended data at  740000\n",
      "appended data at  747216\n"
     ]
    }
   ],
   "source": [
    "docs = col.find(no_cursor_timeout=True)\n",
    "\n",
    "descriptions = pd.DataFrame()\n",
    "\n",
    "counter = 0\n",
    "for doc in docs:\n",
    "    \n",
    "    try:\n",
    "        for each in doc['elements']:\n",
    "    \n",
    "            if each['name'] == \"descriptionprincipalactivities\":\n",
    "        \n",
    "                res = {\"companieshouseregisterednumber\":doc['doc_companieshouseregisterednumber'],\n",
    "                       \"balancesheetdate\":doc['doc_balancesheetdate'],\n",
    "                       \"descriptionprincipalactivities\":each['value']}\n",
    "        \n",
    "                descriptions = descriptions.append(res, ignore_index=True)\n",
    "                \n",
    "                counter = counter + 1\n",
    "                \n",
    "                if counter % 10000 == 0:\n",
    "                    \n",
    "                    if counter > 10000:\n",
    "                        with open(\"companieshousedescriptions.csv\", \"a\") as f:\n",
    "                            descriptions.to_csv(f, header=False)\n",
    "                            print(\"appended data at \", counter)\n",
    "\n",
    "                    else:\n",
    "                        with open(\"companieshousedescriptions.csv\", \"w\") as f:\n",
    "                            descriptions.to_csv(f)\n",
    "                            print(\"created_data at \", counter)\n",
    "                    \n",
    "                    descriptions = pd.DataFrame()\n",
    "                    \n",
    "                break\n",
    "    \n",
    "    except:\n",
    "        pass\n",
    "\n",
    "with open(\"companieshousedescriptions.csv\", \"a\") as f:\n",
    "    descriptions.to_csv(f, header=False)\n",
    "    print(\"appended data at \", counter)"
   ]
  },
  {
   "cell_type": "code",
   "execution_count": 9,
   "metadata": {},
   "outputs": [
    {
     "data": {
      "text/html": [
       "<div>\n",
       "<style scoped>\n",
       "    .dataframe tbody tr th:only-of-type {\n",
       "        vertical-align: middle;\n",
       "    }\n",
       "\n",
       "    .dataframe tbody tr th {\n",
       "        vertical-align: top;\n",
       "    }\n",
       "\n",
       "    .dataframe thead th {\n",
       "        text-align: right;\n",
       "    }\n",
       "</style>\n",
       "<table border=\"1\" class=\"dataframe\">\n",
       "  <thead>\n",
       "    <tr style=\"text-align: right;\">\n",
       "      <th></th>\n",
       "      <th>Unnamed: 0</th>\n",
       "      <th>balancesheetdate</th>\n",
       "      <th>companieshouseregisterednumber</th>\n",
       "      <th>descriptionprincipalactivities</th>\n",
       "    </tr>\n",
       "  </thead>\n",
       "  <tbody>\n",
       "    <tr>\n",
       "      <th>0</th>\n",
       "      <td>0</td>\n",
       "      <td>2017-06-30</td>\n",
       "      <td>08028272</td>\n",
       "      <td>The principal activity of the company is Motor...</td>\n",
       "    </tr>\n",
       "    <tr>\n",
       "      <th>1</th>\n",
       "      <td>1</td>\n",
       "      <td>2017-06-30</td>\n",
       "      <td>04761288</td>\n",
       "      <td>No description of principal activity</td>\n",
       "    </tr>\n",
       "    <tr>\n",
       "      <th>2</th>\n",
       "      <td>2</td>\n",
       "      <td>2017-08-31</td>\n",
       "      <td>10314494</td>\n",
       "      <td>No description of principal activity</td>\n",
       "    </tr>\n",
       "    <tr>\n",
       "      <th>3</th>\n",
       "      <td>3</td>\n",
       "      <td>2016-12-31</td>\n",
       "      <td>03127240</td>\n",
       "      <td>No description of principal activity</td>\n",
       "    </tr>\n",
       "    <tr>\n",
       "      <th>4</th>\n",
       "      <td>4</td>\n",
       "      <td>2017-06-30</td>\n",
       "      <td>05735108</td>\n",
       "      <td>No description of principal activity</td>\n",
       "    </tr>\n",
       "  </tbody>\n",
       "</table>\n",
       "</div>"
      ],
      "text/plain": [
       "   Unnamed: 0 balancesheetdate companieshouseregisterednumber  \\\n",
       "0           0       2017-06-30                       08028272   \n",
       "1           1       2017-06-30                       04761288   \n",
       "2           2       2017-08-31                       10314494   \n",
       "3           3       2016-12-31                       03127240   \n",
       "4           4       2017-06-30                       05735108   \n",
       "\n",
       "                      descriptionprincipalactivities  \n",
       "0  The principal activity of the company is Motor...  \n",
       "1               No description of principal activity  \n",
       "2               No description of principal activity  \n",
       "3               No description of principal activity  \n",
       "4               No description of principal activity  "
      ]
     },
     "execution_count": 9,
     "metadata": {},
     "output_type": "execute_result"
    }
   ],
   "source": [
    "descriptions = pd.read_csv(\"companieshousedescriptions.csv\")\n",
    "\n",
    "descriptions.head()"
   ]
  },
  {
   "cell_type": "code",
   "execution_count": 10,
   "metadata": {},
   "outputs": [
    {
     "data": {
      "text/plain": [
       "121785"
      ]
     },
     "execution_count": 10,
     "metadata": {},
     "output_type": "execute_result"
    }
   ],
   "source": [
    "len(descriptions['descriptionprincipalactivities'].unique())"
   ]
  },
  {
   "cell_type": "code",
   "execution_count": 11,
   "metadata": {},
   "outputs": [
    {
     "data": {
      "text/html": [
       "<div>\n",
       "<style scoped>\n",
       "    .dataframe tbody tr th:only-of-type {\n",
       "        vertical-align: middle;\n",
       "    }\n",
       "\n",
       "    .dataframe tbody tr th {\n",
       "        vertical-align: top;\n",
       "    }\n",
       "\n",
       "    .dataframe thead th {\n",
       "        text-align: right;\n",
       "    }\n",
       "</style>\n",
       "<table border=\"1\" class=\"dataframe\">\n",
       "  <thead>\n",
       "    <tr style=\"text-align: right;\">\n",
       "      <th></th>\n",
       "      <th>companieshouseregisterednumber</th>\n",
       "    </tr>\n",
       "    <tr>\n",
       "      <th>descriptionprincipalactivities</th>\n",
       "      <th></th>\n",
       "    </tr>\n",
       "  </thead>\n",
       "  <tbody>\n",
       "    <tr>\n",
       "      <th>No description of principal activity</th>\n",
       "      <td>527830</td>\n",
       "    </tr>\n",
       "    <tr>\n",
       "      <th>No description of principal activities is disclosed</th>\n",
       "      <td>5093</td>\n",
       "    </tr>\n",
       "    <tr>\n",
       "      <th>No principle activity is included</th>\n",
       "      <td>2453</td>\n",
       "    </tr>\n",
       "    <tr>\n",
       "      <th>The company is dormant and has not traded during the year.</th>\n",
       "      <td>2087</td>\n",
       "    </tr>\n",
       "    <tr>\n",
       "      <th>The principal activity of the company during the year under review was .</th>\n",
       "      <td>1730</td>\n",
       "    </tr>\n",
       "    <tr>\n",
       "      <th>The principal activity of the company in the year under review was that of Consultancy.</th>\n",
       "      <td>1281</td>\n",
       "    </tr>\n",
       "    <tr>\n",
       "      <th>The principal activity of the company is Information technology consultancy activities</th>\n",
       "      <td>937</td>\n",
       "    </tr>\n",
       "    <tr>\n",
       "      <th>IT contracting</th>\n",
       "      <td>862</td>\n",
       "    </tr>\n",
       "    <tr>\n",
       "      <th>The company is dormant and has not traded during the year or subsequent to the year end.</th>\n",
       "      <td>860</td>\n",
       "    </tr>\n",
       "    <tr>\n",
       "      <th>The principal activity of the company in the period under review was that of Consultancy.</th>\n",
       "      <td>845</td>\n",
       "    </tr>\n",
       "    <tr>\n",
       "      <th>The Company is dormant and has not traded during the  year.</th>\n",
       "      <td>842</td>\n",
       "    </tr>\n",
       "    <tr>\n",
       "      <th>This company sells stuff to other companies</th>\n",
       "      <td>711</td>\n",
       "    </tr>\n",
       "    <tr>\n",
       "      <th>IT consultancy</th>\n",
       "      <td>674</td>\n",
       "    </tr>\n",
       "    <tr>\n",
       "      <th>The principal activity of the company is dormant</th>\n",
       "      <td>525</td>\n",
       "    </tr>\n",
       "    <tr>\n",
       "      <th>IT consulting</th>\n",
       "      <td>518</td>\n",
       "    </tr>\n",
       "    <tr>\n",
       "      <th>The principal activity of the company is transportation</th>\n",
       "      <td>488</td>\n",
       "    </tr>\n",
       "    <tr>\n",
       "      <th>The principal activity of the company is Consultancy</th>\n",
       "      <td>449</td>\n",
       "    </tr>\n",
       "    <tr>\n",
       "      <th>The principal activity of the company is IT Consultancy</th>\n",
       "      <td>440</td>\n",
       "    </tr>\n",
       "    <tr>\n",
       "      <th>The principal activity of the company is Dormant</th>\n",
       "      <td>437</td>\n",
       "    </tr>\n",
       "    <tr>\n",
       "      <th>The principal activity of the company is the provision of contract services.</th>\n",
       "      <td>431</td>\n",
       "    </tr>\n",
       "  </tbody>\n",
       "</table>\n",
       "</div>"
      ],
      "text/plain": [
       "                                                    companieshouseregisterednumber\n",
       "descriptionprincipalactivities                                                    \n",
       "No description of principal activity                                        527830\n",
       "No description of principal activities is discl...                            5093\n",
       "No principle activity is included                                             2453\n",
       "The company is dormant and has not traded durin...                            2087\n",
       "The principal activity of the company during th...                            1730\n",
       "The principal activity of the company in the ye...                            1281\n",
       "The principal activity of the company is Inform...                             937\n",
       "IT contracting                                                                 862\n",
       "The company is dormant and has not traded durin...                             860\n",
       "The principal activity of the company in the pe...                             845\n",
       "The Company is dormant and has not traded durin...                             842\n",
       "This company sells stuff to other companies                                    711\n",
       "IT consultancy                                                                 674\n",
       "The principal activity of the company is dormant                               525\n",
       "IT consulting                                                                  518\n",
       "The principal activity of the company is transp...                             488\n",
       "The principal activity of the company is Consul...                             449\n",
       "The principal activity of the company is IT Con...                             440\n",
       "The principal activity of the company is Dormant                               437\n",
       "The principal activity of the company is the pr...                             431"
      ]
     },
     "execution_count": 11,
     "metadata": {},
     "output_type": "execute_result"
    }
   ],
   "source": [
    "descriptions[['companieshouseregisterednumber', 'descriptionprincipalactivities']].\\\n",
    "    groupby('descriptionprincipalactivities').agg('count').\\\n",
    "    sort_values('companieshouseregisterednumber', ascending=False).head(20)"
   ]
  }
 ],
 "metadata": {
  "kernelspec": {
   "display_name": "Python 3",
   "language": "python",
   "name": "python3"
  },
  "language_info": {
   "codemirror_mode": {
    "name": "ipython",
    "version": 3
   },
   "file_extension": ".py",
   "mimetype": "text/x-python",
   "name": "python",
   "nbconvert_exporter": "python",
   "pygments_lexer": "ipython3",
   "version": "3.6.7"
  }
 },
 "nbformat": 4,
 "nbformat_minor": 2
}
