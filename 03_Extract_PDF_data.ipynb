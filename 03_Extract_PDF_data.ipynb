{
 "cells": [
  {
   "cell_type": "markdown",
   "metadata": {},
   "source": [
    "# New approach, find lines with correct format (with thanks to David Kane at https://github.com/drkane)\n",
    "\n",
    "Find correct sheets by finding those titled \"Balance Sheet\"\n",
    "\n",
    "Exclude a bunch of false positives by filtering out \"Statement of\" and \"Note to the financial statements\"\n",
    "\n",
    "Detect aligned elements by whitespace\n",
    "\n",
    "within concatenated elements, detect values by regex\n",
    "\n",
    "if needed, complete multi-line label by finding correct aggregated sentence in blocks / pars"
   ]
  },
  {
   "cell_type": "code",
   "execution_count": 1,
   "metadata": {},
   "outputs": [],
   "source": [
    "import numpy as np\n",
    "import pandas as pd\n",
    "import os\n",
    "import re\n",
    "import importlib\n",
    "\n",
    "import xbrl_image_parser as xip"
   ]
  },
  {
   "cell_type": "markdown",
   "metadata": {},
   "source": [
    "## 0.  Example usage, calling the master function from the library\n",
    "The rest of the notebook goes through details of what it's doing..."
   ]
  },
  {
   "cell_type": "code",
   "execution_count": 6,
   "metadata": {},
   "outputs": [
    {
     "data": {
      "text/html": [
       "<div>\n",
       "<style scoped>\n",
       "    .dataframe tbody tr th:only-of-type {\n",
       "        vertical-align: middle;\n",
       "    }\n",
       "\n",
       "    .dataframe tbody tr th {\n",
       "        vertical-align: top;\n",
       "    }\n",
       "\n",
       "    .dataframe thead th {\n",
       "        text-align: right;\n",
       "    }\n",
       "</style>\n",
       "<table border=\"1\" class=\"dataframe\">\n",
       "  <thead>\n",
       "    <tr style=\"text-align: right;\">\n",
       "      <th></th>\n",
       "      <th>CurrYr</th>\n",
       "      <th>LastYr</th>\n",
       "      <th>label</th>\n",
       "      <th>source</th>\n",
       "    </tr>\n",
       "  </thead>\n",
       "  <tbody>\n",
       "    <tr>\n",
       "      <th>0</th>\n",
       "      <td>180</td>\n",
       "      <td>137</td>\n",
       "      <td>Intangible assets</td>\n",
       "      <td>Intangible assets 12 180 137</td>\n",
       "    </tr>\n",
       "    <tr>\n",
       "      <th>1</th>\n",
       "      <td>28,271</td>\n",
       "      <td>28,681</td>\n",
       "      <td>Tangible assets</td>\n",
       "      <td>Tangible assets 13 28,271 28,681</td>\n",
       "    </tr>\n",
       "    <tr>\n",
       "      <th>2</th>\n",
       "      <td>446</td>\n",
       "      <td>405</td>\n",
       "      <td>Stocks</td>\n",
       "      <td>Stocks 15 446 405</td>\n",
       "    </tr>\n",
       "    <tr>\n",
       "      <th>3</th>\n",
       "      <td>23,174</td>\n",
       "      <td>11,926</td>\n",
       "      <td>Debtors: amounts falling due within one year</td>\n",
       "      <td>Debtors: amounts falling due within one year 1...</td>\n",
       "    </tr>\n",
       "    <tr>\n",
       "      <th>4</th>\n",
       "      <td>10,208</td>\n",
       "      <td>10,565</td>\n",
       "      <td>Cash at bank and in hand</td>\n",
       "      <td>Cash at bank and in hand 10,208 10,565</td>\n",
       "    </tr>\n",
       "    <tr>\n",
       "      <th>5</th>\n",
       "      <td>(10,936)</td>\n",
       "      <td>(7,527)</td>\n",
       "      <td>Creditors: amounts falling due within one year</td>\n",
       "      <td>Creditors: amounts falling due within one year...</td>\n",
       "    </tr>\n",
       "    <tr>\n",
       "      <th>6</th>\n",
       "      <td>22,892</td>\n",
       "      <td>15,369</td>\n",
       "      <td>Net current assets</td>\n",
       "      <td>Net current assets 22,892 15,369</td>\n",
       "    </tr>\n",
       "    <tr>\n",
       "      <th>7</th>\n",
       "      <td>51,346</td>\n",
       "      <td>44,190</td>\n",
       "      <td>Total assets less current liabilities</td>\n",
       "      <td>Total assets less current liabilities 51,346 4...</td>\n",
       "    </tr>\n",
       "    <tr>\n",
       "      <th>8</th>\n",
       "      <td>(2,620)</td>\n",
       "      <td>(3,071)</td>\n",
       "      <td>\"Creditors: amounts falling due after more tha...</td>\n",
       "      <td>than one year 18 (2,620) (3,071)</td>\n",
       "    </tr>\n",
       "    <tr>\n",
       "      <th>9</th>\n",
       "      <td>(18)</td>\n",
       "      <td>(18)</td>\n",
       "      <td>Pensions</td>\n",
       "      <td>Pensions (18) (18)</td>\n",
       "    </tr>\n",
       "    <tr>\n",
       "      <th>10</th>\n",
       "      <td>(2,128)</td>\n",
       "      <td>(2,244)</td>\n",
       "      <td>Pension liability</td>\n",
       "      <td>Pension liability 23 (2,128) (2,244)</td>\n",
       "    </tr>\n",
       "    <tr>\n",
       "      <th>11</th>\n",
       "      <td>46,580</td>\n",
       "      <td>38,857</td>\n",
       "      <td>Net assets</td>\n",
       "      <td>Net assets 46,580 38,857</td>\n",
       "    </tr>\n",
       "    <tr>\n",
       "      <th>0</th>\n",
       "      <td>5,245</td>\n",
       "      <td>5,245</td>\n",
       "      <td>Called up share capital</td>\n",
       "      <td>Called up share capital 21 5,245 5,245</td>\n",
       "    </tr>\n",
       "    <tr>\n",
       "      <th>1</th>\n",
       "      <td>1,061</td>\n",
       "      <td>1,061</td>\n",
       "      <td>Revaluation reserve</td>\n",
       "      <td>Revaluation reserve 20 1,061 1,061</td>\n",
       "    </tr>\n",
       "    <tr>\n",
       "      <th>2</th>\n",
       "      <td>(677)</td>\n",
       "      <td>(566)</td>\n",
       "      <td>Hedging reserve</td>\n",
       "      <td>Hedging reserve 20 (677) (566)</td>\n",
       "    </tr>\n",
       "    <tr>\n",
       "      <th>3</th>\n",
       "      <td>40,951</td>\n",
       "      <td>33,117</td>\n",
       "      <td>Profit and loss account  .</td>\n",
       "      <td>Profit and loss account 20 . 40,951 33,117</td>\n",
       "    </tr>\n",
       "  </tbody>\n",
       "</table>\n",
       "</div>"
      ],
      "text/plain": [
       "      CurrYr   LastYr                                              label  \\\n",
       "0        180      137                                  Intangible assets   \n",
       "1     28,271   28,681                                    Tangible assets   \n",
       "2        446      405                                             Stocks   \n",
       "3     23,174   11,926       Debtors: amounts falling due within one year   \n",
       "4     10,208   10,565                           Cash at bank and in hand   \n",
       "5   (10,936)  (7,527)     Creditors: amounts falling due within one year   \n",
       "6     22,892   15,369                                 Net current assets   \n",
       "7     51,346   44,190              Total assets less current liabilities   \n",
       "8    (2,620)  (3,071)  \"Creditors: amounts falling due after more tha...   \n",
       "9       (18)     (18)                                           Pensions   \n",
       "10   (2,128)  (2,244)                                  Pension liability   \n",
       "11    46,580   38,857                                         Net assets   \n",
       "0      5,245    5,245                            Called up share capital   \n",
       "1      1,061    1,061                                Revaluation reserve   \n",
       "2      (677)    (566)                                    Hedging reserve   \n",
       "3     40,951   33,117                         Profit and loss account  .   \n",
       "\n",
       "                                               source  \n",
       "0                        Intangible assets 12 180 137  \n",
       "1                    Tangible assets 13 28,271 28,681  \n",
       "2                                   Stocks 15 446 405  \n",
       "3   Debtors: amounts falling due within one year 1...  \n",
       "4              Cash at bank and in hand 10,208 10,565  \n",
       "5   Creditors: amounts falling due within one year...  \n",
       "6                    Net current assets 22,892 15,369  \n",
       "7   Total assets less current liabilities 51,346 4...  \n",
       "8                    than one year 18 (2,620) (3,071)  \n",
       "9                                  Pensions (18) (18)  \n",
       "10               Pension liability 23 (2,128) (2,244)  \n",
       "11                           Net assets 46,580 38,857  \n",
       "0              Called up share capital 21 5,245 5,245  \n",
       "1                  Revaluation reserve 20 1,061 1,061  \n",
       "2                      Hedging reserve 20 (677) (566)  \n",
       "3          Profit and loss account 20 . 40,951 33,117  "
      ]
     },
     "execution_count": 6,
     "metadata": {},
     "output_type": "execute_result"
    }
   ],
   "source": [
    "test = pd.read_csv(\"./working/ocr_output_compiled/00002404.csv\")\n",
    "results = xip.process_OCR_csv(test)\n",
    "results"
   ]
  },
  {
   "cell_type": "markdown",
   "metadata": {},
   "source": [
    "## 1. Get the filenames of the example data for my convenience"
   ]
  },
  {
   "cell_type": "code",
   "execution_count": 2,
   "metadata": {},
   "outputs": [],
   "source": [
    "# Get a list of all of the pdf files in the directory \"CH_records\"\n",
    "files = [filename.split(\".\")[0] for filename in os.listdir(\"./working/ocr_output_compiled\") if \".csv\" in filename]"
   ]
  },
  {
   "cell_type": "code",
   "execution_count": 3,
   "metadata": {
    "scrolled": true
   },
   "outputs": [
    {
     "name": "stdout",
     "output_type": "stream",
     "text": [
      "0 00002404\n",
      "1 868273\n",
      "2 1983517\n",
      "3 2765595\n",
      "4 03293902\n",
      "5 02959325\n",
      "6 00542515\n",
      "7 01539777\n",
      "8 02714555\n",
      "9 00030177\n",
      "10 04802747\n",
      "11 02266230\n",
      "12 00983951\n",
      "13 01002610\n",
      "14 01804186\n",
      "15 5508774\n",
      "16 02430955\n",
      "17 00053475\n",
      "18 02245999\n",
      "19 00553535\n",
      "20 3387163\n",
      "21 01337451\n",
      "22 3459907\n",
      "23 00178090\n",
      "24 00468115\n",
      "25 01369166\n",
      "26 00782931\n",
      "27 09457025\n",
      "28 983951\n",
      "29 01370175\n",
      "30 06005142\n",
      "31 04860660\n",
      "32 2303730\n",
      "33 02582534\n",
      "34 00477955\n",
      "35 04558828\n",
      "36 06034603\n",
      "37 3824626\n"
     ]
    }
   ],
   "source": [
    "for each in range(len(files)):\n",
    "    print(each, files[each])"
   ]
  },
  {
   "cell_type": "markdown",
   "metadata": {},
   "source": [
    "## 2. Read in a csv file of data extracted from a PDF"
   ]
  },
  {
   "cell_type": "code",
   "execution_count": 4,
   "metadata": {},
   "outputs": [],
   "source": [
    "# Rediscovering what works...\n",
    "index=0\n",
    "\n",
    "# So far can create all those extra geometric features, can convert to numeric\n",
    "test = pd.read_csv(\"./working/ocr_output_compiled/\"+files[index]+\".csv\")"
   ]
  },
  {
   "cell_type": "code",
   "execution_count": null,
   "metadata": {},
   "outputs": [],
   "source": [
    "# Create numeric vars where possible\n",
    "test['numerical'] = xip.convert_to_numeric(test['text'])\n",
    "\n",
    "# Do some geometry (eg; calculate bottom-bounding coordinates explicitly)\n",
    "test = xip.make_measurements(test)"
   ]
  },
  {
   "cell_type": "code",
   "execution_count": null,
   "metadata": {
    "scrolled": true
   },
   "outputs": [],
   "source": [
    "# Look at the first page of the balance sheet.  Some things to note; that first element is a bounding box\n",
    "# for the entire page\n",
    "test[test['csv_num']==14][['top', 'bottom', 'text', 'level', 'conf']]"
   ]
  },
  {
   "cell_type": "markdown",
   "metadata": {},
   "source": [
    "## 3. Identify balance sheet pages"
   ]
  },
  {
   "cell_type": "code",
   "execution_count": null,
   "metadata": {},
   "outputs": [],
   "source": [
    "csv_numbers = xip.find_balance_sheet_pages(test)\n",
    "csv_numbers"
   ]
  },
  {
   "cell_type": "markdown",
   "metadata": {},
   "source": [
    "## 4.  Find lines on the balance sheet"
   ]
  },
  {
   "cell_type": "code",
   "execution_count": null,
   "metadata": {},
   "outputs": [],
   "source": [
    "results = pd.DataFrame()\n",
    "\n",
    "for csv_number in csv_numbers:\n",
    "    page_df = test[test['csv_num']==csv_number]\n",
    "\n",
    "    results = results.append( xip.extract_lines(page_df, xip.detect_lines(page_df)) )"
   ]
  },
  {
   "cell_type": "code",
   "execution_count": null,
   "metadata": {},
   "outputs": [],
   "source": [
    "results"
   ]
  },
  {
   "cell_type": "code",
   "execution_count": null,
   "metadata": {},
   "outputs": [],
   "source": [
    "print(files[index])"
   ]
  },
  {
   "cell_type": "markdown",
   "metadata": {},
   "source": [
    "## 5. Quick-fixes for weird problems\n",
    "\n",
    "These'll no doubt accumulate"
   ]
  },
  {
   "cell_type": "code",
   "execution_count": null,
   "metadata": {},
   "outputs": [],
   "source": [
    "# a)  Drop any field labelled \"Note\", it's been read from the headers by accident\n",
    "results = results[results['label'].isin([\"Notes\", \"notes\", \"note\", \"Note\"]) == False]"
   ]
  },
  {
   "cell_type": "code",
   "execution_count": null,
   "metadata": {},
   "outputs": [],
   "source": []
  }
 ],
 "metadata": {
  "kernelspec": {
   "display_name": "Python 3",
   "language": "python",
   "name": "python3"
  },
  "language_info": {
   "codemirror_mode": {
    "name": "ipython",
    "version": 3
   },
   "file_extension": ".py",
   "mimetype": "text/x-python",
   "name": "python",
   "nbconvert_exporter": "python",
   "pygments_lexer": "ipython3",
   "version": "3.6.7"
  }
 },
 "nbformat": 4,
 "nbformat_minor": 2
}
